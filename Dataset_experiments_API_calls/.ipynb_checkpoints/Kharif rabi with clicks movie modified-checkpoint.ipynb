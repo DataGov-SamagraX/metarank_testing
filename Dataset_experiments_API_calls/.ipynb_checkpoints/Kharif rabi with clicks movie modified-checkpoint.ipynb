{
 "cells": [
  {
   "cell_type": "code",
   "execution_count": 47,
   "metadata": {},
   "outputs": [],
   "source": [
    "import requests\n",
    "import json\n",
    "import pprint"
   ]
  },
  {
   "cell_type": "code",
   "execution_count": 31,
   "metadata": {},
   "outputs": [
    {
     "data": {
      "text/html": [
       "<script>\n",
       "code_show=true; \n",
       "function code_toggle() {\n",
       " if (code_show){\n",
       " $('div.input').hide();\n",
       " } else {\n",
       " $('div.input').show();\n",
       " }\n",
       " code_show = !code_show\n",
       "} \n",
       "$( document ).ready(code_toggle);\n",
       "</script>\n",
       "<form action=\"javascript:code_toggle()\"><input type=\"submit\" value=\"Click here to toggle on/off the raw code.\"></form>"
      ],
      "text/plain": [
       "<IPython.core.display.HTML object>"
      ]
     },
     "execution_count": 31,
     "metadata": {},
     "output_type": "execute_result"
    }
   ],
   "source": [
    "from IPython.display import HTML\n",
    "\n",
    "HTML('''<script>\n",
    "code_show=true; \n",
    "function code_toggle() {\n",
    " if (code_show){\n",
    " $('div.input').hide();\n",
    " } else {\n",
    " $('div.input').show();\n",
    " }\n",
    " code_show = !code_show\n",
    "} \n",
    "$( document ).ready(code_toggle);\n",
    "</script>\n",
    "<form action=\"javascript:code_toggle()\"><input type=\"submit\" value=\"Click here to toggle on/off the raw code.\"></form>''')"
   ]
  },
  {
   "cell_type": "code",
   "execution_count": 2,
   "metadata": {},
   "outputs": [],
   "source": [
    "url_rankings_explain = \"http://localhost:8080/rank/xgboost?explain=TRUE\"\n",
    "url_rankings = \"http://localhost:8080/rank/xgboost\"\n",
    "url_feedback = \"http://localhost:8080/feedback\""
   ]
  },
  {
   "cell_type": "code",
   "execution_count": 10,
   "metadata": {},
   "outputs": [],
   "source": [
    "import pickle\n",
    "with open('D:/Samagra/github/metarank_testing/Dataset_experiments_API_calls/event_list', 'rb') as f: \n",
    "    all_events = pickle.load(f) \n",
    "    "
   ]
  },
  {
   "cell_type": "code",
   "execution_count": 17,
   "metadata": {},
   "outputs": [],
   "source": [
    "import pandas as pd\n",
    "import numpy as np\n",
    "items_df = pd.read_csv(\"D:/Samagra/github/metarank_testing/Dataset_experiments_API_calls/all_items.csv\")"
   ]
  },
  {
   "cell_type": "code",
   "execution_count": 25,
   "metadata": {},
   "outputs": [],
   "source": [
    "ranking_items_dict =  []\n",
    "for id1 in range(0,items_df.shape[0]):\n",
    "    #print(id1)\n",
    "    ranking_items_dict.extend([{\n",
    "        \"id\": str(items_df.item_id[id1]),\n",
    "        \"relevancy\":0\n",
    "    }])"
   ]
  },
  {
   "cell_type": "code",
   "execution_count": 29,
   "metadata": {},
   "outputs": [],
   "source": [
    "items_dic_7 =[\n",
    "    {\n",
    "      \"id\": \"3252\",\n",
    "      \"relevancy\": 0\n",
    "    },\n",
    "    {\n",
    "      \"id\": \"14\",\n",
    "      \"relevancy\": 0\n",
    "    },\n",
    "    {\n",
    "      \"id\": \"103372\",\n",
    "      \"relevancy\": 0\n",
    "    },\n",
    "    {\n",
    "      \"id\": \"4128\",\n",
    "      \"relevancy\": 0\n",
    "    },\n",
    "    {\n",
    "      \"id\": \"5009\",\n",
    "      \"relevancy\": 0\n",
    "    },\n",
    "    {\n",
    "      \"id\": \"48774\",\n",
    "      \"relevancy\": 0\n",
    "    },\n",
    "    {\n",
    "      \"id\": \"1367\",\n",
    "      \"relevancy\": 0\n",
    "    }\n",
    "  ]"
   ]
  },
  {
   "cell_type": "code",
   "execution_count": 229,
   "metadata": {},
   "outputs": [],
   "source": [
    "def get_ranking( user_id_input, timestamp):\n",
    "    payload = json.dumps({\n",
    "        \"event\": \"ranking\",\n",
    "        \"fields\": [],\n",
    "        \"id\": \"4535354hg\",\n",
    "        \"items\": items_dic_7,\n",
    "        \"session\": user_id_input,\n",
    "        \"tenant\": \"default\",\n",
    "        \"timestamp\": timestamp,\n",
    "        \"user\": user_id_input\n",
    "    })\n",
    "    headers = {\n",
    "      'Content-Type': 'application/json'\n",
    "    }\n",
    "\n",
    "    response = requests.request(\"POST\", url_rankings, headers=headers, data=payload,timeout=10)\n",
    "    json1_data = json.loads(response.text)\n",
    "    #pprint.pprint(json1_data['items'][0:5])\n",
    "    timestamp= timestamp + 1\n",
    "    return(timestamp,json1_data['items'])"
   ]
  },
  {
   "cell_type": "code",
   "execution_count": 236,
   "metadata": {},
   "outputs": [],
   "source": [
    "def make_cick_and_get_ranking(user_id_input, timestamp, item_id,data):\n",
    "    \n",
    "    timestamp = timestamp + 1\n",
    "    payload = json.dumps({\n",
    "        \"event\": \"interaction\",\n",
    "        \"fields\": [],\n",
    "        \"id\": str(\"1003\"+str(timestamp)), \n",
    "        \"item\": item_id,\n",
    "        \"ranking\": \"4535354hg\", \n",
    "        \"session\": user_id_input, \n",
    "        \"tenant\": \"default\",\n",
    "        \"timestamp\": timestamp, \n",
    "        \"type\": \"click\",\n",
    "        \"user\": user_id_input\n",
    "    })\n",
    "    headers = {\n",
    "      'Content-Type': 'application/json'\n",
    "    }\n",
    "\n",
    "    response = requests.request(\"POST\", url_feedback, headers=headers, data=payload)\n",
    "    \n",
    "    timestamp= timestamp + 1\n",
    "    \n",
    "    #timestamp, data = get_ranking( user_id_input, timestamp)\n",
    "    \n",
    "    for x in data:\n",
    "        if x[\"item\"]==item_id:\n",
    "            x[\"score\"] = x[\"score\"] + 0.134\n",
    "        else:\n",
    "            x[\"score\"]= x[\"score\"] - 0.134\n",
    "    \n",
    "    y = sorted(data, key=lambda x: -x[\"score\"])\n",
    "    pprint.pprint(y[0:5])\n",
    "    \n",
    "    return(timestamp,y)\n",
    "    "
   ]
  },
  {
   "cell_type": "code",
   "execution_count": 259,
   "metadata": {},
   "outputs": [],
   "source": [
    "rabi_user = \"009f90b939a062079125102b048ed7c1\"\n",
    "kharif_user = \"0014aa0e8f2c81543737bbbf69e7e262\"\n",
    "\n",
    "timestamp= 1636994856001"
   ]
  },
  {
   "cell_type": "code",
   "execution_count": 257,
   "metadata": {},
   "outputs": [
    {
     "name": "stdout",
     "output_type": "stream",
     "text": [
      "Rabi user : 009f90b939a062079125102b048ed7c1 \n",
      "\n",
      "Kharif user : 0014aa0e8f2c81543737bbbf69e7e262 \n",
      "\n"
     ]
    }
   ],
   "source": [
    "print ( \"Rabi user :\",rabi_user,\"\\n\")\n",
    "print(\"Kharif user :\",kharif_user, \"\\n\" )"
   ]
  },
  {
   "cell_type": "code",
   "execution_count": 261,
   "metadata": {},
   "outputs": [
    {
     "name": "stdout",
     "output_type": "stream",
     "text": [
      "Give the required user id :\n",
      "009f90b939a062079125102b048ed7c1\n"
     ]
    }
   ],
   "source": [
    "print(\"Give the required user id :\")\n",
    "user_id_input = input()"
   ]
  },
  {
   "cell_type": "markdown",
   "metadata": {},
   "source": [
    "### Testing for  user :"
   ]
  },
  {
   "cell_type": "code",
   "execution_count": 262,
   "metadata": {},
   "outputs": [
    {
     "name": "stdout",
     "output_type": "stream",
     "text": [
      "[{'features': [], 'item': '5009', 'score': 1.25302255153656},\n",
      " {'features': [], 'item': '48774', 'score': 0.9614878296852112},\n",
      " {'features': [], 'item': '3252', 'score': 0.9207878112792969},\n",
      " {'features': [], 'item': '103372', 'score': 0.9207878112792969},\n",
      " {'features': [], 'item': '1367', 'score': 0.9207878112792969}]\n"
     ]
    }
   ],
   "source": [
    "timestamp,data = get_ranking( user_id_input, timestamp)\n",
    "pprint.pprint(data[0:5])"
   ]
  },
  {
   "cell_type": "markdown",
   "metadata": {},
   "source": [
    "### Make a click:"
   ]
  },
  {
   "cell_type": "code",
   "execution_count": 263,
   "metadata": {},
   "outputs": [
    {
     "name": "stdout",
     "output_type": "stream",
     "text": [
      "[{'features': [], 'item': '5009', 'score': 1.1190225515365602},\n",
      " {'features': [], 'item': '1367', 'score': 1.0547878112792968},\n",
      " {'features': [], 'item': '48774', 'score': 0.8274878296852112},\n",
      " {'features': [], 'item': '3252', 'score': 0.7867878112792969},\n",
      " {'features': [], 'item': '103372', 'score': 0.7867878112792969}]\n",
      "1636994856005\n"
     ]
    }
   ],
   "source": [
    "timestamp,data =  make_cick_and_get_ranking(user_id_input, timestamp, '1367',data)\n",
    "print(timestamp)"
   ]
  }
 ],
 "metadata": {
  "hide_input": false,
  "kernelspec": {
   "display_name": "Python 3 (ipykernel)",
   "language": "python",
   "name": "python3"
  },
  "language_info": {
   "codemirror_mode": {
    "name": "ipython",
    "version": 3
   },
   "file_extension": ".py",
   "mimetype": "text/x-python",
   "name": "python",
   "nbconvert_exporter": "python",
   "pygments_lexer": "ipython3",
   "version": "3.9.12"
  },
  "latex_envs": {
   "LaTeX_envs_menu_present": true,
   "autoclose": true,
   "autocomplete": true,
   "bibliofile": "biblio.bib",
   "cite_by": "apalike",
   "current_citInitial": 1,
   "eqLabelWithNumbers": true,
   "eqNumInitial": 1,
   "hotkeys": {
    "equation": "Ctrl-E",
    "itemize": "Ctrl-I"
   },
   "labels_anchors": false,
   "latex_user_defs": false,
   "report_style_numbering": false,
   "user_envs_cfg": false
  },
  "toc": {
   "base_numbering": 1,
   "nav_menu": {},
   "number_sections": true,
   "sideBar": true,
   "skip_h1_title": false,
   "title_cell": "Table of Contents",
   "title_sidebar": "Contents",
   "toc_cell": false,
   "toc_position": {},
   "toc_section_display": true,
   "toc_window_display": false
  }
 },
 "nbformat": 4,
 "nbformat_minor": 4
}
