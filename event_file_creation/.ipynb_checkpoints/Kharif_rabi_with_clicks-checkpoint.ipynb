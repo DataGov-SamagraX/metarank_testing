{
 "cells": [
  {
   "cell_type": "markdown",
   "id": "b215198e",
   "metadata": {},
   "source": [
    "This is similar to the event file created for creating feature split but also includes a probability distirbution for click in order to get click events activated"
   ]
  },
  {
   "cell_type": "markdown",
   "id": "241d1a34",
   "metadata": {},
   "source": [
    "## Setup"
   ]
  },
  {
   "cell_type": "code",
   "execution_count": 27,
   "id": "2dca40ca-c9b7-48ca-b7d7-d256ea930da8",
   "metadata": {
    "tags": []
   },
   "outputs": [],
   "source": [
    "import random \n",
    "import numpy as np\n",
    "import pandas as pd\n",
    "import gzip\n",
    "import jsonlines\n",
    "import datetime\n",
    "\n"
   ]
  },
  {
   "cell_type": "code",
   "execution_count": 28,
   "id": "0684bcd7-d929-473d-ac44-4621e37051db",
   "metadata": {},
   "outputs": [],
   "source": [
    "\n",
    "no_of_interactions  = 1000\n",
    "no_of_rankings = 10\n",
    "no_of_users =  10\n",
    "no_of_items = 10\n",
    "no_of_items_per_ranking =  10\n",
    "\n",
    "time_start=  1638316800000   ## 2021-12-01 00:00:00\n",
    "time_end =  1640908800000  ## 2021-12-31 00:00:00"
   ]
  },
  {
   "cell_type": "code",
   "execution_count": 37,
   "id": "79fb4ece",
   "metadata": {},
   "outputs": [],
   "source": [
    "sample_prob =  pd.read_csv('sample_probabilities.csv')\n",
    "sample_prob.users = sample_prob['users'].astype(str)\n",
    "sample_prob2 =  sample_prob.copy()\n",
    "sample_prob2.users = np.array(['6','7','8','9','10'])\n",
    "sample_prob2.columns = ['P_users', 'users', '6','7','8','9','10']"
   ]
  },
  {
   "cell_type": "code",
   "execution_count": 38,
   "id": "3b7de895",
   "metadata": {},
   "outputs": [
    {
     "data": {
      "text/html": [
       "<div>\n",
       "<style scoped>\n",
       "    .dataframe tbody tr th:only-of-type {\n",
       "        vertical-align: middle;\n",
       "    }\n",
       "\n",
       "    .dataframe tbody tr th {\n",
       "        vertical-align: top;\n",
       "    }\n",
       "\n",
       "    .dataframe thead th {\n",
       "        text-align: right;\n",
       "    }\n",
       "</style>\n",
       "<table border=\"1\" class=\"dataframe\">\n",
       "  <thead>\n",
       "    <tr style=\"text-align: right;\">\n",
       "      <th></th>\n",
       "      <th>P_users</th>\n",
       "      <th>users</th>\n",
       "      <th>1</th>\n",
       "      <th>2</th>\n",
       "      <th>3</th>\n",
       "      <th>4</th>\n",
       "      <th>5</th>\n",
       "    </tr>\n",
       "  </thead>\n",
       "  <tbody>\n",
       "    <tr>\n",
       "      <th>0</th>\n",
       "      <td>0.4</td>\n",
       "      <td>1</td>\n",
       "      <td>0.17</td>\n",
       "      <td>0.20</td>\n",
       "      <td>0.19</td>\n",
       "      <td>0.25</td>\n",
       "      <td>0.19</td>\n",
       "    </tr>\n",
       "    <tr>\n",
       "      <th>1</th>\n",
       "      <td>0.2</td>\n",
       "      <td>2</td>\n",
       "      <td>0.28</td>\n",
       "      <td>0.15</td>\n",
       "      <td>0.19</td>\n",
       "      <td>0.20</td>\n",
       "      <td>0.18</td>\n",
       "    </tr>\n",
       "    <tr>\n",
       "      <th>2</th>\n",
       "      <td>0.2</td>\n",
       "      <td>3</td>\n",
       "      <td>0.28</td>\n",
       "      <td>0.15</td>\n",
       "      <td>0.19</td>\n",
       "      <td>0.20</td>\n",
       "      <td>0.18</td>\n",
       "    </tr>\n",
       "    <tr>\n",
       "      <th>3</th>\n",
       "      <td>0.1</td>\n",
       "      <td>4</td>\n",
       "      <td>0.41</td>\n",
       "      <td>0.15</td>\n",
       "      <td>0.15</td>\n",
       "      <td>0.14</td>\n",
       "      <td>0.15</td>\n",
       "    </tr>\n",
       "    <tr>\n",
       "      <th>4</th>\n",
       "      <td>0.1</td>\n",
       "      <td>5</td>\n",
       "      <td>0.41</td>\n",
       "      <td>0.15</td>\n",
       "      <td>0.15</td>\n",
       "      <td>0.14</td>\n",
       "      <td>0.15</td>\n",
       "    </tr>\n",
       "  </tbody>\n",
       "</table>\n",
       "</div>"
      ],
      "text/plain": [
       "   P_users users     1     2     3     4     5\n",
       "0      0.4     1  0.17  0.20  0.19  0.25  0.19\n",
       "1      0.2     2  0.28  0.15  0.19  0.20  0.18\n",
       "2      0.2     3  0.28  0.15  0.19  0.20  0.18\n",
       "3      0.1     4  0.41  0.15  0.15  0.14  0.15\n",
       "4      0.1     5  0.41  0.15  0.15  0.14  0.15"
      ]
     },
     "execution_count": 38,
     "metadata": {},
     "output_type": "execute_result"
    }
   ],
   "source": [
    "sample_prob"
   ]
  },
  {
   "cell_type": "markdown",
   "id": "fa7a7941",
   "metadata": {},
   "source": [
    "The above is the probablity distribution for users 1-5 for items 1-5. e.g. User 1 has probability of picking item 1 of 0.17. These users have no probability of picking items 5-10"
   ]
  },
  {
   "cell_type": "code",
   "execution_count": 39,
   "id": "e5b88cfa",
   "metadata": {},
   "outputs": [
    {
     "data": {
      "text/html": [
       "<div>\n",
       "<style scoped>\n",
       "    .dataframe tbody tr th:only-of-type {\n",
       "        vertical-align: middle;\n",
       "    }\n",
       "\n",
       "    .dataframe tbody tr th {\n",
       "        vertical-align: top;\n",
       "    }\n",
       "\n",
       "    .dataframe thead th {\n",
       "        text-align: right;\n",
       "    }\n",
       "</style>\n",
       "<table border=\"1\" class=\"dataframe\">\n",
       "  <thead>\n",
       "    <tr style=\"text-align: right;\">\n",
       "      <th></th>\n",
       "      <th>P_users</th>\n",
       "      <th>users</th>\n",
       "      <th>6</th>\n",
       "      <th>7</th>\n",
       "      <th>8</th>\n",
       "      <th>9</th>\n",
       "      <th>10</th>\n",
       "    </tr>\n",
       "  </thead>\n",
       "  <tbody>\n",
       "    <tr>\n",
       "      <th>0</th>\n",
       "      <td>0.4</td>\n",
       "      <td>6</td>\n",
       "      <td>0.17</td>\n",
       "      <td>0.20</td>\n",
       "      <td>0.19</td>\n",
       "      <td>0.25</td>\n",
       "      <td>0.19</td>\n",
       "    </tr>\n",
       "    <tr>\n",
       "      <th>1</th>\n",
       "      <td>0.2</td>\n",
       "      <td>7</td>\n",
       "      <td>0.28</td>\n",
       "      <td>0.15</td>\n",
       "      <td>0.19</td>\n",
       "      <td>0.20</td>\n",
       "      <td>0.18</td>\n",
       "    </tr>\n",
       "    <tr>\n",
       "      <th>2</th>\n",
       "      <td>0.2</td>\n",
       "      <td>8</td>\n",
       "      <td>0.28</td>\n",
       "      <td>0.15</td>\n",
       "      <td>0.19</td>\n",
       "      <td>0.20</td>\n",
       "      <td>0.18</td>\n",
       "    </tr>\n",
       "    <tr>\n",
       "      <th>3</th>\n",
       "      <td>0.1</td>\n",
       "      <td>9</td>\n",
       "      <td>0.41</td>\n",
       "      <td>0.15</td>\n",
       "      <td>0.15</td>\n",
       "      <td>0.14</td>\n",
       "      <td>0.15</td>\n",
       "    </tr>\n",
       "    <tr>\n",
       "      <th>4</th>\n",
       "      <td>0.1</td>\n",
       "      <td>10</td>\n",
       "      <td>0.41</td>\n",
       "      <td>0.15</td>\n",
       "      <td>0.15</td>\n",
       "      <td>0.14</td>\n",
       "      <td>0.15</td>\n",
       "    </tr>\n",
       "  </tbody>\n",
       "</table>\n",
       "</div>"
      ],
      "text/plain": [
       "   P_users users     6     7     8     9    10\n",
       "0      0.4     6  0.17  0.20  0.19  0.25  0.19\n",
       "1      0.2     7  0.28  0.15  0.19  0.20  0.18\n",
       "2      0.2     8  0.28  0.15  0.19  0.20  0.18\n",
       "3      0.1     9  0.41  0.15  0.15  0.14  0.15\n",
       "4      0.1    10  0.41  0.15  0.15  0.14  0.15"
      ]
     },
     "execution_count": 39,
     "metadata": {},
     "output_type": "execute_result"
    }
   ],
   "source": [
    "sample_prob2"
   ]
  },
  {
   "cell_type": "markdown",
   "id": "7e952101",
   "metadata": {},
   "source": [
    "The above is the probablity distribution for users 1-5 for items 6-10. e.g. User 6 has probability 0.17 of picking item 6. These users have no probability of picking items 1-5"
   ]
  },
  {
   "cell_type": "markdown",
   "id": "5053ce7b",
   "metadata": {},
   "source": [
    "### Description:"
   ]
  },
  {
   "cell_type": "markdown",
   "id": "5f2d21d8",
   "metadata": {},
   "source": [
    "- Two kinds of users : \n",
    "    - Users with crop = 'kharif': They click on only items 1-5 \n",
    "    - Users with crop = 'rabi' : They click on only items 6-10\n",
    "- Two kinds of items : \n",
    "    - Items 1-5: They have fertilizer = 'fertrilizer_1' and persticide in {'pesticide_2,pesticide_3}\n",
    "    - Items 6-10: They have fertilizer in {'fertilizer_1,fertilizer_3'} and pesticide = pesticide_1"
   ]
  },
  {
   "cell_type": "markdown",
   "id": "ba37fd48-40fd-48ff-a81b-a02e732dfc4a",
   "metadata": {},
   "source": [
    "### Creating users : "
   ]
  },
  {
   "cell_type": "code",
   "execution_count": 31,
   "id": "2857b3a3-4c3a-4692-8b9f-f81f978bce28",
   "metadata": {},
   "outputs": [
    {
     "data": {
      "text/plain": [
       "[{'event': 'user',\n",
       "  'id': '5',\n",
       "  'timestamp': 1638316800000,\n",
       "  'user': '5',\n",
       "  'fields': [{'name': 'land_area', 'value': 1.3},\n",
       "   {'name': 'crops', 'value': 'kharif'}]},\n",
       " {'event': 'user',\n",
       "  'id': '6',\n",
       "  'timestamp': 1638316800000,\n",
       "  'user': '6',\n",
       "  'fields': [{'name': 'land_area', 'value': 2.18},\n",
       "   {'name': 'crops', 'value': 'rabi'}]}]"
      ]
     },
     "execution_count": 31,
     "metadata": {},
     "output_type": "execute_result"
    }
   ],
   "source": [
    "user_dic1 = []\n",
    "\n",
    "def condition_crop(id1):\n",
    "    if id1 < no_of_users/2:\n",
    "        crop = 'kharif'\n",
    "    else:\n",
    "        crop = 'rabi'\n",
    "    return(crop)\n",
    "\n",
    "\n",
    "for id1 in range(no_of_users):\n",
    "   \n",
    "    user_dic1.append({\n",
    "        \"event\": \"user\",\n",
    "        \"id\": str(id1 + 1),\n",
    "        \"timestamp\":  time_start,\n",
    "        \"user\": str(id1+1),\n",
    "        \"fields\": [{\n",
    "                \"name\": \"land_area\",\n",
    "                \"value\": random.randint(100,250)/100.00\n",
    "                },\n",
    "            {\n",
    "                \"name\": \"crops\",\n",
    "                \"value\": condition_crop(id1)\n",
    "                }]\n",
    "    })\n",
    "\n",
    "user_dic1[4:6]"
   ]
  },
  {
   "cell_type": "markdown",
   "id": "4746f7f2-fe37-4e5f-bd65-1a7922260316",
   "metadata": {},
   "source": [
    "### Creating items:"
   ]
  },
  {
   "cell_type": "code",
   "execution_count": 32,
   "id": "614a2727-9d46-4305-a40c-d00c0204a1d7",
   "metadata": {
    "scrolled": false
   },
   "outputs": [
    {
     "data": {
      "text/plain": [
       "[{'event': 'item',\n",
       "  'id': '1',\n",
       "  'timestamp': 1638316800000,\n",
       "  'item': '1',\n",
       "  'fields': [{'name': 'pesticide', 'value': 'pesticide_1'},\n",
       "   {'name': 'fertilizer', 'value': 'fertilizer_3'}]},\n",
       " {'event': 'item',\n",
       "  'id': '2',\n",
       "  'timestamp': 1638316800000,\n",
       "  'item': '2',\n",
       "  'fields': [{'name': 'pesticide', 'value': 'pesticide_1'},\n",
       "   {'name': 'fertilizer', 'value': 'fertilizer_2'}]}]"
      ]
     },
     "execution_count": 32,
     "metadata": {},
     "output_type": "execute_result"
    }
   ],
   "source": [
    "item_dic1 = []\n",
    "\n",
    "def condition_pesticide(id1):\n",
    "    if id1 < no_of_items/2:\n",
    "        pesticide = 'pesticide_1'\n",
    "    else:\n",
    "        pesticide = random.choice(['pesticide_2','pesticide_3'])\n",
    "    return(pesticide)\n",
    "\n",
    "def condition_fertilizer(id1):\n",
    "    if id1 < no_of_items/2:\n",
    "        fertilizer = random.choice(['fertilizer_2','fertilizer_3'])\n",
    "    else:\n",
    "        fertilizer = 'fertilizer_1'\n",
    "    return(fertilizer)\n",
    "\n",
    "for id1 in range(no_of_items):\n",
    "   \n",
    "    item_dic1.append({\n",
    "        \"event\": \"item\",\n",
    "        \"id\": str(id1 + 1),\n",
    "        \"timestamp\":  time_start,\n",
    "        \"item\": str(id1+1),\n",
    "        \"fields\": [{\n",
    "                \"name\": \"pesticide\",\n",
    "                \"value\": condition_pesticide(id1)\n",
    "                },\n",
    "            {\n",
    "                \"name\": \"fertilizer\",\n",
    "                \"value\": condition_fertilizer(id1)\n",
    "                }]\n",
    "    })\n",
    "\n",
    "item_dic1[0:2]"
   ]
  },
  {
   "cell_type": "markdown",
   "id": "8e2d9b59-edb0-4c21-af63-32d6948f5d99",
   "metadata": {},
   "source": [
    "### Creating rankings dictionary"
   ]
  },
  {
   "cell_type": "code",
   "execution_count": 33,
   "id": "1bd1d435-1c43-441d-a696-16c8b624327b",
   "metadata": {},
   "outputs": [
    {
     "data": {
      "text/plain": [
       "[{'event': 'ranking',\n",
       "  'fields': [],\n",
       "  'id': '1',\n",
       "  'items': [{'id': '2', 'relevancy': 0.0},\n",
       "   {'id': '1', 'relevancy': 0.0},\n",
       "   {'id': '4', 'relevancy': 0.0},\n",
       "   {'id': '9', 'relevancy': 0.0},\n",
       "   {'id': '5', 'relevancy': 0.0},\n",
       "   {'id': '8', 'relevancy': 0.0},\n",
       "   {'id': '7', 'relevancy': 0.0},\n",
       "   {'id': '6', 'relevancy': 0.0},\n",
       "   {'id': '10', 'relevancy': 0.0},\n",
       "   {'id': '3', 'relevancy': 0.0}],\n",
       "  'session': '1',\n",
       "  'tenant': 'default',\n",
       "  'timestamp': 1638316800000,\n",
       "  'user': '1'},\n",
       " {'event': 'ranking',\n",
       "  'fields': [],\n",
       "  'id': '2',\n",
       "  'items': [{'id': '5', 'relevancy': 0.0},\n",
       "   {'id': '1', 'relevancy': 0.0},\n",
       "   {'id': '7', 'relevancy': 0.0},\n",
       "   {'id': '4', 'relevancy': 0.0},\n",
       "   {'id': '10', 'relevancy': 0.0},\n",
       "   {'id': '8', 'relevancy': 0.0},\n",
       "   {'id': '2', 'relevancy': 0.0},\n",
       "   {'id': '3', 'relevancy': 0.0},\n",
       "   {'id': '6', 'relevancy': 0.0},\n",
       "   {'id': '9', 'relevancy': 0.0}],\n",
       "  'session': '2',\n",
       "  'tenant': 'default',\n",
       "  'timestamp': 1638316800000,\n",
       "  'user': '2'}]"
      ]
     },
     "execution_count": 33,
     "metadata": {},
     "output_type": "execute_result"
    }
   ],
   "source": [
    "## creating 10 rankings for 10 random users based on 10 items randomly placed\n",
    "\n",
    "ranking_dic1 = []\n",
    "for id1 in range(no_of_rankings):\n",
    "    user_id = str(id1 + 1)\n",
    "    ranking_id =  random.sample(range(1,no_of_items+1),no_of_items_per_ranking)\n",
    "    rank_list= []\n",
    "    for id2 in range(no_of_rankings):\n",
    "        rank_list.append({\n",
    "                \"id\" : str(ranking_id[id2]),\n",
    "                \"relevancy\": 0.0\n",
    "            })\n",
    "    ranking_dic1.append({\n",
    "        \"event\": \"ranking\",\n",
    "        \"fields\":[],\n",
    "        \"id\": str(id1 + 1),\n",
    "        \"items\": rank_list,\n",
    "        \"session\": str(user_id),\n",
    "        \"tenant\": \"default\",\n",
    "        \"timestamp\":  time_start,\n",
    "        \"user\": str(user_id)\n",
    "    })\n",
    "    \n",
    "ranking_dic1[0:2]"
   ]
  },
  {
   "cell_type": "markdown",
   "id": "e14a0614-4e5b-4419-97a7-ab4be81448d0",
   "metadata": {},
   "source": [
    "### Creating interactions dictionary"
   ]
  },
  {
   "cell_type": "code",
   "execution_count": 34,
   "id": "3622ab3b-7f05-4cd9-a4a4-5e98b26ecfc5",
   "metadata": {},
   "outputs": [],
   "source": [
    "## creating 50 interactions such that the first 5 users (id - 1 to 5)  interact only with first 5 items(id - 1 to 5) :\n",
    "\n",
    "interaction_dic1 = []\n",
    "for id1 in range(int(no_of_interactions/2)):\n",
    "    prob = sample_prob.P_users.values\n",
    "    user_id = str(np.random.choice(sample_prob.users,size = 1,p = prob)[0])\n",
    "    ranking_id = [x['id'] for x in ranking_dic1 if x['user']== user_id][0]\n",
    "    prob_item = sample_prob.loc[sample_prob.users == user_id,sample_prob.columns[2:sample_prob.shape[1]]].values[0]\n",
    "    item_id = str(np.random.choice(sample_prob.columns[2:sample_prob.shape[1]].values,size = 1,p = prob_item)[0])\n",
    "    interaction_dic1.append({\n",
    "        \"event\": \"interaction\",\n",
    "        \"fields\":[],\n",
    "        \"id\": str(id1 + 1),\n",
    "        \"item\": item_id,\n",
    "        \"ranking\":  ranking_id,\n",
    "        \"session\": str(user_id),\n",
    "        \"tenant\": \"default\",\n",
    "        \"timestamp\":  random.randint(time_start+1,time_end),\n",
    "        \"type\":\"click\",\n",
    "        \"user\": str(user_id)\n",
    "    })\n",
    "    \n",
    "## creating 50 interactions such that the other 5 users (id - 5 to 10)  interact only with the other 5 items (id - 5 to 10)\n",
    "    \n",
    "interaction_dic2 = []\n",
    "for id1 in range(int(no_of_interactions/2),no_of_interactions):\n",
    "    user_id = str(np.random.choice(sample_prob2.users,size = 1,p = prob)[0])\n",
    "    ranking_id = [x['id'] for x in ranking_dic1 if x['user']== user_id][0]\n",
    "    prob_item = sample_prob2.loc[sample_prob2.users == user_id,sample_prob2.columns[2:sample_prob2.shape[1]]].values[0]\n",
    "    item_id = str(np.random.choice(sample_prob2.columns[2:sample_prob2.shape[1]].values,size = 1,p = prob_item)[0])\n",
    "    interaction_dic2.append({\n",
    "        \"event\": \"interaction\",\n",
    "        \"fields\":[],\n",
    "        \"id\": str(id1 + 1),\n",
    "        \"item\": item_id,\n",
    "        \"ranking\":  ranking_id,\n",
    "        \"session\": str(user_id),\n",
    "        \"tenant\": \"default\",\n",
    "        \"timestamp\":  random.randint(time_start+1,time_end),\n",
    "        \"type\":\"click\",\n",
    "        \"user\": str(user_id)\n",
    "    })"
   ]
  },
  {
   "cell_type": "code",
   "execution_count": 35,
   "id": "88c536a6-3344-4f82-abbc-96593652a603",
   "metadata": {},
   "outputs": [
    {
     "data": {
      "text/plain": [
       "[{'event': 'interaction',\n",
       "  'fields': [],\n",
       "  'id': '501',\n",
       "  'item': '9',\n",
       "  'ranking': '6',\n",
       "  'session': '6',\n",
       "  'tenant': 'default',\n",
       "  'timestamp': 1638551946019,\n",
       "  'type': 'click',\n",
       "  'user': '6'},\n",
       " {'event': 'interaction',\n",
       "  'fields': [],\n",
       "  'id': '502',\n",
       "  'item': '9',\n",
       "  'ranking': '6',\n",
       "  'session': '6',\n",
       "  'tenant': 'default',\n",
       "  'timestamp': 1638993446200,\n",
       "  'type': 'click',\n",
       "  'user': '6'}]"
      ]
     },
     "execution_count": 35,
     "metadata": {},
     "output_type": "execute_result"
    }
   ],
   "source": [
    "interaction_dic = interaction_dic1.copy()\n",
    "interaction_dic.extend(interaction_dic2)\n",
    "interaction_dic[500:502]"
   ]
  },
  {
   "cell_type": "markdown",
   "id": "2bfbbd54-5026-4e4b-9436-498191632a6c",
   "metadata": {},
   "source": [
    "### Combining the events created :  "
   ]
  },
  {
   "cell_type": "code",
   "execution_count": 36,
   "id": "0e5ec92b-d39a-4145-8fc1-411cfbd82c90",
   "metadata": {},
   "outputs": [],
   "source": [
    "## functions for writing into gzip \n",
    "def writeall_jsonl_gz(filename, payload ):\n",
    "    with gzip.open(filename, 'wb') as fp:\n",
    "        json_writer = jsonlines.Writer(fp)\n",
    "        json_writer.write_all(payload)\n",
    "\n",
    "\n",
    "## combining interactions nad rankings:\n",
    "events_list =  interaction_dic.copy()\n",
    "events_list.extend(ranking_dic1)\n",
    "\n",
    "##combining users and items:\n",
    "events_list_doc=  events_list.copy()\n",
    "events_list_doc.extend( user_dic1)\n",
    "events_list_doc.extend (item_dic1)\n",
    "\n",
    "##saving the created events: \n",
    "filename = 'data/event_kharif_rabi_with_clicks.jsonl.gz'\n",
    "payload  = events_list_doc\n",
    "writeall_jsonl_gz(filename, payload )"
   ]
  }
 ],
 "metadata": {
  "kernelspec": {
   "display_name": "Python 3 (ipykernel)",
   "language": "python",
   "name": "python3"
  },
  "language_info": {
   "codemirror_mode": {
    "name": "ipython",
    "version": 3
   },
   "file_extension": ".py",
   "mimetype": "text/x-python",
   "name": "python",
   "nbconvert_exporter": "python",
   "pygments_lexer": "ipython3",
   "version": "3.9.12"
  }
 },
 "nbformat": 4,
 "nbformat_minor": 5
}
